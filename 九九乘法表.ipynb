{
 "cells": [
  {
   "cell_type": "code",
   "execution_count": 14,
   "metadata": {},
   "outputs": [
    {
     "name": "stdout",
     "output_type": "stream",
     "text": [
      "1 x 1 = 1  \n",
      "\n",
      "2 x 1 = 2  2 x 2 = 4  \n",
      "\n",
      "3 x 1 = 3  3 x 2 = 6  3 x 3 = 9  \n",
      "\n",
      "4 x 1 = 4  4 x 2 = 8  4 x 3 = 12  4 x 4 = 16  \n",
      "\n",
      "5 x 1 = 5  5 x 2 = 10  5 x 3 = 15  5 x 4 = 20  5 x 5 = 25  \n",
      "\n",
      "6 x 1 = 6  6 x 2 = 12  6 x 3 = 18  6 x 4 = 24  6 x 5 = 30  6 x 6 = 36  \n",
      "\n",
      "7 x 1 = 7  7 x 2 = 14  7 x 3 = 21  7 x 4 = 28  7 x 5 = 35  7 x 6 = 42  7 x 7 = 49  \n",
      "\n",
      "8 x 1 = 8  8 x 2 = 16  8 x 3 = 24  8 x 4 = 32  8 x 5 = 40  8 x 6 = 48  8 x 7 = 56  8 x 8 = 64  \n",
      "\n",
      "9 x 1 = 9  9 x 2 = 18  9 x 3 = 27  9 x 4 = 36  9 x 5 = 45  9 x 6 = 54  9 x 7 = 63  9 x 8 = 72  9 x 9 = 81  \n",
      "\n"
     ]
    }
   ],
   "source": [
    "for x in range(1,10):\n",
    "    for y in range(1,10):\n",
    "        if x<y:\n",
    "            continue\n",
    "        print(x,\"x\",y,\"=\",x*y,end=\"  \")\n",
    "    print(\"\\n\")"
   ]
  },
  {
   "cell_type": "code",
   "execution_count": 63,
   "metadata": {},
   "outputs": [
    {
     "name": "stdout",
     "output_type": "stream",
     "text": [
      "一 一 得 一    \n",
      "\n",
      "一 二 得 二    二 二 得 四    \n",
      "\n",
      "一 三 得 三    二 三 得 六    三 三 得 九    \n",
      "\n",
      "一 四 得 四    二 四 得 八    三 四 十 二    四 四 十 六    \n",
      "\n",
      "一 五 得 五    二 五 一 十    三 五 十 五    四 五 二 十    五 五 二 十 五    \n",
      "\n",
      "一 六 得 六    二 六 十 二    三 六 十 八    四 六 二 十 四    五 六 三 十    六 六 三 十 六    \n",
      "\n",
      "一 七 得 七    二 七 十 四    三 七 二 十 一    四 七 二 十 八    五 七 三 十 五    六 七 四 十 二    七 七 四 十 九    \n",
      "\n",
      "一 八 得 八    二 八 十 六    三 八 二 十 四    四 八 三 十 二    五 八 四 十    六 八 四 十 八    七 八 五 十 六    八 八 六 十 四    \n",
      "\n",
      "一 九 得 九    二 九 十 八    三 九 二 十 七    四 九 三 十 六    五 九 四 十 五    六 九 五 十 四    七 九 六 十 三    八 九 七 十 二    九 九 八 十 一    \n",
      "\n"
     ]
    }
   ],
   "source": [
    "for x in range(1,10):\n",
    "    for y in range(1,10):\n",
    "        if x<y:\n",
    "            continue\n",
    "        elif x*y<10:\n",
    "            print(a[y],a[x],\"得\",a[x*y],end=\"    \")\n",
    "        elif 20>x*y>10:\n",
    "            print(a[y],a[x],\"十\",a[x*y%10],end=\"    \")\n",
    "        elif x*y%10==0:\n",
    "            print(a[y],a[x],a[((x*y)-(x*y%10))//10],a[x*y%10],end=\"    \")\n",
    "        else:\n",
    "            print(a[y],a[x],a[((x*y)-(x*y%10))//10],\"十\",a[x*y%10],end=\"    \")\n",
    "    print(\"\\n\")"
   ]
  },
  {
   "cell_type": "code",
   "execution_count": null,
   "metadata": {
    "collapsed": true
   },
   "outputs": [],
   "source": []
  }
 ],
 "metadata": {
  "kernelspec": {
   "display_name": "Python 3",
   "language": "python",
   "name": "python3"
  },
  "language_info": {
   "codemirror_mode": {
    "name": "ipython",
    "version": 3
   },
   "file_extension": ".py",
   "mimetype": "text/x-python",
   "name": "python",
   "nbconvert_exporter": "python",
   "pygments_lexer": "ipython3",
   "version": "3.6.2"
  }
 },
 "nbformat": 4,
 "nbformat_minor": 2
}
